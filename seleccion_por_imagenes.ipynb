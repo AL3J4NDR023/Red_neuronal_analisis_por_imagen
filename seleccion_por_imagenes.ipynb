{
  "nbformat": 4,
  "nbformat_minor": 0,
  "metadata": {
    "colab": {
      "provenance": []
    },
    "kernelspec": {
      "name": "python3",
      "display_name": "Python 3"
    },
    "language_info": {
      "name": "python"
    }
  },
  "cells": [
    {
      "cell_type": "code",
      "execution_count": null,
      "metadata": {
        "id": "365-hENkdY3w"
      },
      "outputs": [],
      "source": [
        "import os\n",
        "import cv2\n",
        "import tensorflow as tf\n",
        "from tensorflow.keras.models import Sequential\n",
        "from tensorflow.keras.layers import Conv2D, MaxPooling2D, Flatten, Dense\n",
        "from tensorflow.keras.preprocessing import image\n",
        "from sklearn.model_selection import train_test_split\n",
        "from sklearn.preprocessing import LabelEncoder\n",
        "import numpy as np"
      ]
    },
    {
      "cell_type": "code",
      "source": [
        "# Función para cargar imágenes y etiquetas\n",
        "def cargar_imagenes_etiquetas(data_dir):\n",
        "    images = []\n",
        "    labels = []\n",
        "    class_names = sorted(os.listdir(data_dir))\n",
        "    for class_name in class_names:\n",
        "        class_dir = os.path.join(data_dir, class_name)\n",
        "        for image_name in os.listdir(class_dir):\n",
        "            image_path = os.path.join(class_dir, image_name)\n",
        "            img = cv2.imread(image_path)\n",
        "            img = cv2.cvtColor(img, cv2.COLOR_BGR2RGB)\n",
        "            img = cv2.resize(img, (64, 64))\n",
        "            images.append(img)\n",
        "            labels.append(class_name)\n",
        "    images = np.array(images)\n",
        "    labels = np.array(labels)\n",
        "    return images, labels"
      ],
      "metadata": {
        "id": "Sj4S5cKJh2uq"
      },
      "execution_count": null,
      "outputs": []
    },
    {
      "cell_type": "code",
      "source": [
        "\n",
        "# Directorio de la carpeta con las imágenes\n",
        "data_dir = \"/content/drive/MyDrive/Intrligencia Artificial II/raw-img\"\n",
        "\n",
        "# Cargar imágenes y etiquetas\n",
        "images, labels = cargar_imagenes_etiquetas(data_dir)\n",
        "\n",
        "# Codificar las etiquetas numéricamente\n",
        "label_encoder = LabelEncoder()\n",
        "labels_encoded = label_encoder.fit_transform(labels)\n",
        "\n",
        "# Traducción de las clases\n",
        "translate = {\"cane\": \"dog\", \"cavallo\": \"horse\", \"elefante\": \"elephant\", \"farfalla\": \"butterfly\", \"gallina\": \"chicken\", \"gatto\": \"cat\", \"mucca\": \"cow\", \"pecora\": \"sheep\", \"scoiattolo\": \"squirrel\", \"dog\": \"cane\", \"cavallo\": \"horse\", \"elephant\": \"elefante\", \"butterfly\": \"farfalla\", \"chicken\": \"gallina\", \"cat\": \"gatto\", \"cow\": \"mucca\", \"spider\": \"ragno\", \"squirrel\": \"scoiattolo\"}\n",
        "\n",
        "# Dividir los datos en conjuntos de entrenamiento y prueba\n",
        "x_train, x_test, y_train, y_test = train_test_split(images, labels_encoded, test_size=0.2, random_state=42)\n",
        "\n",
        "# Normalizar los datos\n",
        "x_train = x_train / 255.0\n",
        "x_test = x_test / 255.0\n",
        "\n",
        "# Crear y entrenar el modelo de red neuronal convolucional (CNN)\n",
        "model = Sequential()\n",
        "model.add(Conv2D(32, (3, 3), activation='relu', input_shape=(64, 64, 3)))\n",
        "model.add(MaxPooling2D((2, 2)))\n",
        "model.add(Conv2D(64, (3, 3), activation='relu'))\n",
        "model.add(MaxPooling2D((2, 2)))\n",
        "model.add(Flatten())\n",
        "model.add(Dense(64, activation='relu'))\n",
        "model.add(Dense(len(set(labels)), activation='softmax'))\n",
        "\n",
        "model.compile(optimizer='adam',\n",
        "              loss='sparse_categorical_crossentropy',\n",
        "              metrics=['accuracy'])\n",
        "\n",
        "model.fit(x_train, y_train, epochs=10, validation_data=(x_test, y_test))\n",
        "\n",
        "# Clasificar una imagen ingresada por el usuario\n",
        "image_path = input(\"Ingrese la ruta de la imagen a clasificar: \")\n",
        "img = cv2.imread(image_path)\n",
        "img = cv2.cvtColor(img, cv2.COLOR_BGR2RGB)\n",
        "img = cv2.resize(img, (64, 64))\n",
        "img = img / 255.0\n",
        "\n",
        "predictions = model.predict(np.array([img]))\n",
        "predicted_class = np.argmax(predictions[0])\n",
        "\n",
        "predicted_class_name = label_encoder.inverse_transform([predicted_class])[0]\n",
        "translated_class_name = translate.get(predicted_class_name)\n",
        "\n",
        "if translated_class_name:\n",
        "    print(\"La imagen ingresada pertenece a la clase:\", translated_class_name)\n",
        "else:\n",
        "    print(\"La clase predicha no existe.\")"
      ],
      "metadata": {
        "colab": {
          "base_uri": "https://localhost:8080/"
        },
        "id": "HrxpWjl3i1c7",
        "outputId": "3cb1ecba-61ad-40e3-e26a-6743bb96878b"
      },
      "execution_count": null,
      "outputs": [
        {
          "output_type": "stream",
          "name": "stdout",
          "text": [
            "Epoch 1/10\n",
            "655/655 [==============================] - 154s 234ms/step - loss: 1.7005 - accuracy: 0.4160 - val_loss: 1.4115 - val_accuracy: 0.5189\n",
            "Epoch 2/10\n",
            "655/655 [==============================] - 151s 230ms/step - loss: 1.2485 - accuracy: 0.5780 - val_loss: 1.2346 - val_accuracy: 0.5781\n",
            "Epoch 3/10\n",
            "655/655 [==============================] - 152s 233ms/step - loss: 1.0230 - accuracy: 0.6546 - val_loss: 1.1609 - val_accuracy: 0.6112\n",
            "Epoch 4/10\n",
            "655/655 [==============================] - 152s 232ms/step - loss: 0.8232 - accuracy: 0.7224 - val_loss: 1.1851 - val_accuracy: 0.6117\n",
            "Epoch 5/10\n",
            "655/655 [==============================] - 152s 232ms/step - loss: 0.6451 - accuracy: 0.7850 - val_loss: 1.1986 - val_accuracy: 0.6228\n",
            "Epoch 6/10\n",
            "655/655 [==============================] - 152s 232ms/step - loss: 0.4787 - accuracy: 0.8409 - val_loss: 1.3127 - val_accuracy: 0.6243\n",
            "Epoch 7/10\n",
            "655/655 [==============================] - 151s 231ms/step - loss: 0.3338 - accuracy: 0.8921 - val_loss: 1.5029 - val_accuracy: 0.6257\n",
            "Epoch 8/10\n",
            "655/655 [==============================] - 150s 228ms/step - loss: 0.2297 - accuracy: 0.9282 - val_loss: 1.6470 - val_accuracy: 0.6194\n",
            "Epoch 9/10\n",
            "655/655 [==============================] - 151s 230ms/step - loss: 0.1509 - accuracy: 0.9543 - val_loss: 1.9096 - val_accuracy: 0.6190\n",
            "Epoch 10/10\n",
            "655/655 [==============================] - 154s 235ms/step - loss: 0.1120 - accuracy: 0.9653 - val_loss: 2.1009 - val_accuracy: 0.6104\n",
            "Ingrese la ruta de la imagen a clasificar: /content/drive/MyDrive/Intrligencia Artificial II/Schaf_bei_Woodhenge1.jpg\n",
            "1/1 [==============================] - 0s 112ms/step\n",
            "La imagen ingresada pertenece a la clase: sheep\n"
          ]
        }
      ]
    }
  ]
}